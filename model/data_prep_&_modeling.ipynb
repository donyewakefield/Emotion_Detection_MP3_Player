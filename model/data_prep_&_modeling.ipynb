{
  "nbformat": 4,
  "nbformat_minor": 0,
  "metadata": {
    "colab": {
      "provenance": [],
      "gpuType": "T4"
    },
    "kernelspec": {
      "name": "python3",
      "display_name": "Python 3"
    },
    "language_info": {
      "name": "python"
    },
    "accelerator": "GPU"
  },
  "cells": [
    {
      "cell_type": "code",
      "execution_count": 1,
      "metadata": {
        "colab": {
          "base_uri": "https://localhost:8080/"
        },
        "id": "Me5TkRXeusx_",
        "outputId": "8a9b6ee6-7858-485d-f9b5-dba6dd1e2f99"
      },
      "outputs": [
        {
          "output_type": "stream",
          "name": "stdout",
          "text": [
            "Mounted at /content/drive\n"
          ]
        }
      ],
      "source": [
        "import numpy as np\n",
        "import pandas as pd\n",
        "import matplotlib.pyplot as plt\n",
        "import random\n",
        "from tensorflow import keras\n",
        "from keras import layers\n",
        "import tensorflow as tf\n",
        "from keras.models import Model\n",
        "from keras.layers import Input\n",
        "import cv2\n",
        "from keras.models import Model\n",
        "from keras.layers import Input\n",
        "\n",
        "# first, mount the drive\n",
        "from google.colab import drive\n",
        "drive.mount('/content/drive')\n",
        "# second, access the data\n",
        "data = pd.read_csv('/content/drive/MyDrive/Data/face_data.csv')"
      ]
    },
    {
      "cell_type": "markdown",
      "source": [
        "# Helper Functions:\n",
        "### convert data to numpy arrays, display an image, reindex the data frame, view proportion numbers of a categorical variable"
      ],
      "metadata": {
        "id": "qXQ1WueM0CcS"
      }
    },
    {
      "cell_type": "code",
      "source": [
        "# Function that converts a image of pixels (represented as a string) to an array; Where img is a string of pixel values\n",
        "def arr_convert(img):\n",
        "  return np.array(img.split()).astype('float64')\n",
        "\n",
        "# Function for converting data as a whole to arrays; Where data is a container data structure (e.g. Series)\n",
        "def arr_conversion(data):\n",
        "  l1 = []\n",
        "  for i in data:\n",
        "    l1.append(arr_convert(i))\n",
        "  return np.array(l1)\n",
        "\n",
        "# Display image assuming it was not already converted to array; Where img is a string of pixel values\n",
        "def display_pre(img):\n",
        "    plt.imshow(arr_convert(img).reshape(48,48), cmap='gray')\n",
        "    plt.axis('off')\n",
        "    plt.show()\n",
        "# Display image assuming it was already converted to ndarray; Where img is a array of pixel values\n",
        "def display_post(img):\n",
        "    plt.imshow(img.reshape(48,48), cmap='gray')\n",
        "    plt.axis('off')\n",
        "    plt.show()\n",
        "\n",
        "# Function that reindex the Data Frame; Where DF is a data frame\n",
        "def reindexDF(DF):\n",
        "  return (DF.reset_index().drop(columns = ['index']))\n",
        "\n",
        "# Function that looks at number of occurrences of a category in catgeorical variable; Where S is a Series\n",
        "def cat_num(S):\n",
        "  return S.value_counts()\n",
        "# Function for checking percentages specifically\n",
        "def checkperc(S):\n",
        "  return round(((S.value_counts()/S.value_counts().sum())*100), 2)"
      ],
      "metadata": {
        "id": "m-nCfsyPxO-_"
      },
      "execution_count": 2,
      "outputs": []
    },
    {
      "cell_type": "markdown",
      "source": [
        "# Data Wrangling\n",
        "### clean, transform, reduce the data (only for random duplicates), format the data properly, address data quality issues (e.g. class imbalance), One Hot Encode"
      ],
      "metadata": {
        "id": "ZF_gLgKJ4LHN"
      }
    },
    {
      "cell_type": "code",
      "source": [
        "# Make a copy of the data frame\n",
        "face_data = data.copy()\n",
        "\n",
        "# Fix minor issue with column names and remove irrelevant variable ' Usage'\n",
        "face_data = (face_data.drop([' Usage'], axis=1)).rename(columns = {' emotion': 'emotion', ' pixels': 'pixels'})\n",
        "\n",
        "# 0 = Angry, 3 = Happy, 4 = Sad, 6 = Neutral;\n",
        "# Remove irrelavent labels: 1 = Disgust, 2 = Fear, 5 = Surprise\n",
        "face_data = face_data[face_data['emotion'].isin([0, 3, 4, 6])]\n",
        "\n",
        "# Check if there are missing observations\n",
        "face_data.isnull().count()\n",
        "\n",
        "# Check if there are random duplicates; Yes there are 686 random duplicates\n",
        "face_data.duplicated().sum()\n",
        "# Remove those duplicates\n",
        "face_data = face_data.drop_duplicates()\n",
        "\n",
        "# Check if there are missing pixels in images; If there is an image with missing pixel, an error will be thrown; Should take around 25-30 seconds\n",
        "def PixelCheck(images):\n",
        "  for image in images:\n",
        "    np.array(image.split()).astype('int64').reshape(48,48)\n",
        "# Check for missing pixels\n",
        "PixelCheck(face_data['pixels'])"
      ],
      "metadata": {
        "id": "MOxc7fvmxm5n"
      },
      "execution_count": 3,
      "outputs": []
    },
    {
      "cell_type": "code",
      "source": [
        "# 0 = Angry, 3 = Happy, 4 = Sad, 6 = Neutral;\n",
        "# Check percentages for emotions\n",
        "checkperc(face_data['emotion'])"
      ],
      "metadata": {
        "colab": {
          "base_uri": "https://localhost:8080/"
        },
        "id": "a0hC0S5RyHFB",
        "outputId": "7554c137-8fe7-4621-946a-493fcfe87afd"
      },
      "execution_count": 4,
      "outputs": [
        {
          "output_type": "execute_result",
          "data": {
            "text/plain": [
              "3    34.47\n",
              "6    23.72\n",
              "4    23.24\n",
              "0    18.57\n",
              "Name: emotion, dtype: float64"
            ]
          },
          "metadata": {},
          "execution_count": 4
        }
      ]
    },
    {
      "cell_type": "code",
      "source": [
        "# Check number of observations per emotion\n",
        "cat_num(face_data['emotion'])"
      ],
      "metadata": {
        "colab": {
          "base_uri": "https://localhost:8080/"
        },
        "id": "unKpiePFyH8D",
        "outputId": "e7024669-1fb2-4253-bf71-0d185fb84615"
      },
      "execution_count": 5,
      "outputs": [
        {
          "output_type": "execute_result",
          "data": {
            "text/plain": [
              "3    8800\n",
              "6    6057\n",
              "4    5934\n",
              "0    4740\n",
              "Name: emotion, dtype: int64"
            ]
          },
          "metadata": {},
          "execution_count": 5
        }
      ]
    },
    {
      "cell_type": "code",
      "source": [
        "from imblearn.over_sampling import RandomOverSampler\n",
        "#  Lets Oversample for the minority classes so that we address the class imbalance issue\n",
        "oversampler = RandomOverSampler(sampling_strategy='auto') # make sure all classes are uniform (i.e. same number of instances)\n",
        "X_over, Y_over = oversampler.fit_resample(face_data['pixels'].values.reshape(-1,1), face_data['emotion'])\n",
        "X_over_series = pd.Series(X_over.flatten())\n",
        "\n",
        "# Check that we have uniformity\n",
        "(pd.DataFrame({'emotion': Y_over, 'images': X_over_series}))['emotion'].value_counts()"
      ],
      "metadata": {
        "colab": {
          "base_uri": "https://localhost:8080/"
        },
        "id": "iOTURSBpyOMt",
        "outputId": "fa4847df-2380-41e7-bb7c-64566140cee9"
      },
      "execution_count": 6,
      "outputs": [
        {
          "output_type": "execute_result",
          "data": {
            "text/plain": [
              "0    8800\n",
              "4    8800\n",
              "6    8800\n",
              "3    8800\n",
              "Name: emotion, dtype: int64"
            ]
          },
          "metadata": {},
          "execution_count": 6
        }
      ]
    },
    {
      "cell_type": "code",
      "source": [
        "# split into train, valid, and test sets\n",
        "from sklearn.model_selection import train_test_split\n",
        "\n",
        "# Feature\n",
        "X = np.array(X_over_series)\n",
        "# Label\n",
        "y = np.array(Y_over)\n",
        "\n",
        "# Split into train and testing sets\n",
        "X_train, X_test, y_train, y_test = train_test_split(X, y, test_size = 0.1, random_state=0)\n",
        "# Split into train and validation sets\n",
        "X_train, X_val, y_train, y_val = train_test_split(X_train, y_train, test_size = 0.1, random_state=0)"
      ],
      "metadata": {
        "id": "ziVI2BeGyYg9"
      },
      "execution_count": 7,
      "outputs": []
    },
    {
      "cell_type": "code",
      "source": [
        "# Make sure all images are arrays\n",
        "X_train = arr_conversion(X_train)\n",
        "X_val = arr_conversion(X_val)\n",
        "X_test = arr_conversion(X_test)\n",
        "\n",
        "# Normalize the training data\n",
        "X_train = X_train/255.0\n",
        "X_val = X_val/255.0\n",
        "X_test = X_test/255.0\n",
        "\n",
        "# Reshape so that the data can actually fit into the model\n",
        "X_train = X_train.reshape(-1, 48,48,1)\n",
        "X_val = X_val.reshape(-1,48,48,1)\n",
        "X_test = X_test.reshape(-1, 48,48, 1)"
      ],
      "metadata": {
        "id": "Oz6btfloydL5"
      },
      "execution_count": 8,
      "outputs": []
    },
    {
      "cell_type": "code",
      "source": [
        "### One Hot Encode our labels\n",
        "from sklearn.preprocessing import OneHotEncoder\n",
        "# 0 = Angry, 3 = Happy, 4 = Sad, 6 =Neutral\n",
        "#dict = {[0,'Angry']:0, [3,'Happy']:1, [4,'Sad']:2, [6,'Neutral']:3}\n",
        "\n",
        "# function for one hot encoding the label\n",
        "def ONE_HOT_ENCODE(label_data):\n",
        "  y_train_TEST = tuple(label_data)\n",
        "  TEST_DF = pd.DataFrame(y_train_TEST, columns=['emotions'])\n",
        "  TEST_DF['emotions'] = TEST_DF['emotions'].astype('category')\n",
        "  TEST_DF['emotions_CAT'] = TEST_DF['emotions'].cat.codes\n",
        "  enc = OneHotEncoder(handle_unknown='ignore')\n",
        "  enc_df = pd.DataFrame(enc.fit_transform(TEST_DF[['emotions_CAT']]).toarray())\n",
        "  TEST_DF = TEST_DF.join(enc_df)\n",
        "  TEST_DF = TEST_DF.drop(columns=['emotions', 'emotions_CAT'])\n",
        "  return TEST_DF.to_numpy()\n",
        "\n",
        "# one hot encoding the training and validation labels\n",
        "y_train = ONE_HOT_ENCODE(y_train)\n",
        "y_val = ONE_HOT_ENCODE(y_val)\n",
        "y_test = ONE_HOT_ENCODE(y_test)"
      ],
      "metadata": {
        "id": "PMbHB5ElyiwK"
      },
      "execution_count": 9,
      "outputs": []
    },
    {
      "cell_type": "markdown",
      "source": [
        "# Model Building\n",
        "### Building a Convolution Neural Network (CNN) with 5 convolutional layers, uses Max Pooling, with Rectified Linear Unit (ReLU) activation functions per layer, 3x3 kernal, stride of 1, regularized with drop out of 60%, batch normalization for consistency, and early stopping. Also has the output layer activation of softmax that produces vector of probabilities.\n",
        "### Uses Adam to optimize the loss function Categorical Cross Entropy with a 0.01% learning rate"
      ],
      "metadata": {
        "id": "vM1NASdY832M"
      }
    },
    {
      "cell_type": "code",
      "source": [
        "from keras.optimizers.legacy.adam import Adam\n",
        "from keras.layers import Conv2D, MaxPool2D, Input, BatchNormalization, MaxPooling2D, Activation, Flatten, Dense, Dropout\n",
        "from keras.models import Model\n",
        "from tensorflow.keras.callbacks import EarlyStopping\n",
        "\n",
        "def emotion_recognition(input_shape):\n",
        "  # input layer\n",
        "  X_input = Input(input_shape)\n",
        "  # 1st conv layer\n",
        "  X = Conv2D(32, kernel_size=(3,3), strides=(1,1), padding='valid')(X_input)\n",
        "  X = BatchNormalization(axis=3)(X)\n",
        "  X = Activation('relu')(X)\n",
        "\n",
        "  # 2nd conv layer\n",
        "  X = Conv2D(64, (3,3), strides=(1,1), padding = 'same')(X)\n",
        "  X = BatchNormalization(axis=3)(X)\n",
        "  X = Activation('relu')(X)\n",
        "  X = MaxPooling2D((2,2))(X)\n",
        "\n",
        "  # 3rd conv layer\n",
        "  X = Conv2D(64, (3,3), strides=(1,1), padding = 'valid')(X)\n",
        "  X = BatchNormalization(axis=3)(X)\n",
        "  X = Activation('relu')(X)\n",
        "\n",
        "  # 4th conv layer\n",
        "  X = Conv2D(128, (3,3), strides=(1,1), padding = 'same')(X)\n",
        "  X = BatchNormalization(axis=3)(X)\n",
        "  X = Activation('relu')(X)\n",
        "  X = MaxPooling2D((2,2))(X)\n",
        "\n",
        "  # 5th conv layer\n",
        "  X = Conv2D(128, (3,3), strides=(1,1), padding = 'valid')(X)\n",
        "  X = BatchNormalization(axis=3)(X)\n",
        "  X = Activation('relu')(X)\n",
        "  X = MaxPooling2D((2,2))(X)\n",
        "  X = Flatten()(X)\n",
        "\n",
        "  # dense layer\n",
        "  X = Dense(200, activation='relu')(X)\n",
        "  X = Dropout(0.6)(X)\n",
        "  X = Dense(4, activation = 'softmax')(X)\n",
        "\n",
        "  # instantiate the model\n",
        "  model = Model(inputs=X_input, outputs=X)\n",
        "  return model\n",
        "\n",
        "# Compile the model\n",
        "model = emotion_recognition((48,48,1))\n",
        "adam = keras.optimizers.Adam(learning_rate=0.0001)\n",
        "model.compile(optimizer=adam, loss='categorical_crossentropy', metrics=['accuracy'])\n",
        "\n",
        "# Define the EarlyStopping callback\n",
        "early_stopping = EarlyStopping(patience=5, monitor='val_loss', restore_best_weights=True)\n",
        "\n",
        "# Train the model\n",
        "history = model.fit(X_train, y_train, epochs=30, batch_size=32, validation_data=(X_val, y_val), callbacks=[early_stopping])\n"
      ],
      "metadata": {
        "colab": {
          "base_uri": "https://localhost:8080/"
        },
        "id": "kOY5vH0oyv4J",
        "outputId": "548bac1e-dce1-4f12-d1cb-2024df676410"
      },
      "execution_count": 10,
      "outputs": [
        {
          "output_type": "stream",
          "name": "stdout",
          "text": [
            "Epoch 1/30\n",
            "891/891 [==============================] - 26s 12ms/step - loss: 1.3534 - accuracy: 0.3642 - val_loss: 1.1932 - val_accuracy: 0.4760\n",
            "Epoch 2/30\n",
            "891/891 [==============================] - 10s 12ms/step - loss: 1.1720 - accuracy: 0.4674 - val_loss: 1.0561 - val_accuracy: 0.5464\n",
            "Epoch 3/30\n",
            "891/891 [==============================] - 10s 12ms/step - loss: 1.0706 - accuracy: 0.5294 - val_loss: 0.9776 - val_accuracy: 0.5767\n",
            "Epoch 4/30\n",
            "891/891 [==============================] - 10s 12ms/step - loss: 0.9924 - accuracy: 0.5712 - val_loss: 0.9728 - val_accuracy: 0.5830\n",
            "Epoch 5/30\n",
            "891/891 [==============================] - 11s 13ms/step - loss: 0.9298 - accuracy: 0.6028 - val_loss: 0.8843 - val_accuracy: 0.6326\n",
            "Epoch 6/30\n",
            "891/891 [==============================] - 10s 12ms/step - loss: 0.8686 - accuracy: 0.6392 - val_loss: 0.8328 - val_accuracy: 0.6562\n",
            "Epoch 7/30\n",
            "891/891 [==============================] - 10s 12ms/step - loss: 0.8069 - accuracy: 0.6672 - val_loss: 0.8321 - val_accuracy: 0.6525\n",
            "Epoch 8/30\n",
            "891/891 [==============================] - 11s 12ms/step - loss: 0.7429 - accuracy: 0.6996 - val_loss: 0.8050 - val_accuracy: 0.6765\n",
            "Epoch 9/30\n",
            "891/891 [==============================] - 11s 12ms/step - loss: 0.6824 - accuracy: 0.7264 - val_loss: 0.7551 - val_accuracy: 0.7093\n",
            "Epoch 10/30\n",
            "891/891 [==============================] - 11s 12ms/step - loss: 0.6107 - accuracy: 0.7594 - val_loss: 0.7349 - val_accuracy: 0.7219\n",
            "Epoch 11/30\n",
            "891/891 [==============================] - 10s 11ms/step - loss: 0.5499 - accuracy: 0.7851 - val_loss: 0.7052 - val_accuracy: 0.7412\n",
            "Epoch 12/30\n",
            "891/891 [==============================] - 11s 12ms/step - loss: 0.4898 - accuracy: 0.8130 - val_loss: 0.7341 - val_accuracy: 0.7317\n",
            "Epoch 13/30\n",
            "891/891 [==============================] - 10s 12ms/step - loss: 0.4340 - accuracy: 0.8369 - val_loss: 0.6792 - val_accuracy: 0.7579\n",
            "Epoch 14/30\n",
            "891/891 [==============================] - 11s 12ms/step - loss: 0.3754 - accuracy: 0.8625 - val_loss: 0.7097 - val_accuracy: 0.7629\n",
            "Epoch 15/30\n",
            "891/891 [==============================] - 10s 12ms/step - loss: 0.3325 - accuracy: 0.8784 - val_loss: 0.7251 - val_accuracy: 0.7541\n",
            "Epoch 16/30\n",
            "891/891 [==============================] - 10s 12ms/step - loss: 0.2874 - accuracy: 0.8968 - val_loss: 0.8264 - val_accuracy: 0.7443\n",
            "Epoch 17/30\n",
            "891/891 [==============================] - 10s 12ms/step - loss: 0.2450 - accuracy: 0.9135 - val_loss: 0.7739 - val_accuracy: 0.7686\n",
            "Epoch 18/30\n",
            "891/891 [==============================] - 11s 12ms/step - loss: 0.2167 - accuracy: 0.9247 - val_loss: 0.8198 - val_accuracy: 0.7737\n"
          ]
        }
      ]
    },
    {
      "cell_type": "code",
      "source": [
        "# Evaluate the model\n",
        "loss, accuracy = model.evaluate(X_test, y_test)\n",
        "print('Test Loss:', loss)\n",
        "print('Test Accuracy:', accuracy)"
      ],
      "metadata": {
        "colab": {
          "base_uri": "https://localhost:8080/"
        },
        "id": "XiuLxmspHqHP",
        "outputId": "12af0e2d-c6ef-448e-8ebc-c6566a692213"
      },
      "execution_count": 11,
      "outputs": [
        {
          "output_type": "stream",
          "name": "stdout",
          "text": [
            "110/110 [==============================] - 1s 5ms/step - loss: 0.7145 - accuracy: 0.7574\n",
            "Test Loss: 0.7145275473594666\n",
            "Test Accuracy: 0.7573863863945007\n"
          ]
        }
      ]
    },
    {
      "cell_type": "code",
      "source": [
        "# Visualize learning curve\n",
        "pd.DataFrame(history.history).plot(figsize=(8,5))\n",
        "plt.grid(True)\n",
        "plt.gca().set_ylim(0,1)\n",
        "plt.show()"
      ],
      "metadata": {
        "colab": {
          "base_uri": "https://localhost:8080/",
          "height": 451
        },
        "id": "fBaAO3JcyzDA",
        "outputId": "e2bef755-18a1-4c1b-e0f3-0a8ee70b7d63"
      },
      "execution_count": 12,
      "outputs": [
        {
          "output_type": "display_data",
          "data": {
            "text/plain": [
              "<Figure size 800x500 with 1 Axes>"
            ],
            "image/png": "[encoded data removed]"
          },
          "metadata": {}
        }
      ]
    },
    {
      "cell_type": "code",
      "source": [
        "# Save model architecture\n",
        "model_json = model.to_json()\n",
        "with open('model_architecture2.json', 'w') as json_file:\n",
        "    json_file.write(model_json)\n",
        "\n",
        "# Save model weights to HDF5 file\n",
        "model.save_weights('model_weights2.h5')"
      ],
      "metadata": {
        "id": "4gwh8oOiH2QA"
      },
      "execution_count": 13,
      "outputs": []
    }
  ]
}